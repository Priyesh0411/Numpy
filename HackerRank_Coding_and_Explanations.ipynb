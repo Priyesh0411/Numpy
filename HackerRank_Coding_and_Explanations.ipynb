{
  "nbformat": 4,
  "nbformat_minor": 0,
  "metadata": {
    "colab": {
      "provenance": [],
      "authorship_tag": "ABX9TyNB7mHAcCtldh/f/Yup+mWo",
      "include_colab_link": true
    },
    "kernelspec": {
      "name": "python3",
      "display_name": "Python 3"
    },
    "language_info": {
      "name": "python"
    }
  },
  "cells": [
    {
      "cell_type": "markdown",
      "metadata": {
        "id": "view-in-github",
        "colab_type": "text"
      },
      "source": [
        "<a href=\"https://colab.research.google.com/github/Priyesh0411/Numpy/blob/master/HackerRank_Coding_and_Explanations.ipynb\" target=\"_parent\"><img src=\"https://colab.research.google.com/assets/colab-badge.svg\" alt=\"Open In Colab\"/></a>"
      ]
    },
    {
      "cell_type": "markdown",
      "source": [
        "# **Finding the percentage**\n"
      ],
      "metadata": {
        "id": "A94-4YOhFpgC"
      }
    },
    {
      "cell_type": "markdown",
      "source": [
        "**Tutorial**"
      ],
      "metadata": {
        "id": "L_u0XUw3F0OQ"
      }
    },
    {
      "cell_type": "markdown",
      "source": [
        "A dictionary is a data type which stores values in pairs. For each element in the dictionary, there is a unique key that points to a value. A dictionary is mutable. It can be changed.\n",
        "For example:"
      ],
      "metadata": {
        "id": "5aKGHNMVF85R"
      }
    },
    {
      "cell_type": "code",
      "execution_count": 1,
      "metadata": {
        "id": "vL3-ViBJFVT9"
      },
      "outputs": [],
      "source": [
        "a_dict = {'one': 1} # Here 'one' is the key.  "
      ]
    },
    {
      "cell_type": "markdown",
      "source": [
        "**Note:** The **key of a dictionary** is **\"immutable\"**. **We cannot use a list as a key because a list is \"mutable\"**. But we can **make a tuple of list and use as key**."
      ],
      "metadata": {
        "id": "i9fLYo-sGD4k"
      }
    },
    {
      "cell_type": "code",
      "source": [
        "a_dict['two'] = 2 # Adds key 'two' which points to 2\n",
        "print(a_dict['one'])\n",
        "# prints 1  \n",
        "if 'three' in a_dict:\n",
        "    # To check whether a certain string exist as a key in the dictionary  \n",
        "    print(a_dict['three'])\n",
        "else:  \n",
        "    print(\"Three not there\")\n",
        "# prints Three not there\n",
        "del a_dict['one']\n",
        "# Deletes index 'one' and the value associated with it  \n",
        "print(a_dict)\n",
        "# prints {'two': 2}"
      ],
      "metadata": {
        "colab": {
          "base_uri": "https://localhost:8080/"
        },
        "id": "K0cfMlToGE-H",
        "outputId": "3b6cc7c0-af07-4bd6-b314-186fcd41bfdb"
      },
      "execution_count": 3,
      "outputs": [
        {
          "output_type": "stream",
          "name": "stdout",
          "text": [
            "1\n",
            "Three not there\n",
            "{'two': 2}\n"
          ]
        }
      ]
    },
    {
      "cell_type": "markdown",
      "source": [
        "**Note:** A dictionary is unordered. So, only use the keys to navigate through the dictionary."
      ],
      "metadata": {
        "id": "3mDlu3CzGJBo"
      }
    },
    {
      "cell_type": "markdown",
      "source": [
        "**Problem**\n",
        "\n",
        "The provided code stub will read in a dictionary containing key/value pairs of **name:[marks]** for a list of **students**. Print the average of the marks array for the student name provided, showing 2 places after the decimal.\n",
        "\n",
        "**Example**\n",
        "\n",
        "\n",
        "\n",
        "\n",
        "The query_name is 'beta'. beta's average score is .\n",
        "\n",
        "**Input Format**\n",
        "\n",
        "The first line contains the integer , the number of students' records. The next  lines contain the names and marks obtained by a student, each value separated by a space. The final line contains query_name, the name of a student to query.\n",
        "\n",
        "**Output Format**\n",
        "\n",
        "Print one line: The average of the marks obtained by the particular student correct to 2 decimal places.\n",
        "\n",
        "**Sample Input 0**\n",
        "\n",
        "3\n",
        "\n",
        "Krishna 67 68 69\n",
        "\n",
        "Arjun 70 98 63\n",
        "\n",
        "Malika 52 56 60\n",
        "\n",
        "Malika\n",
        "\n",
        "**Sample Output 0**\n",
        "\n",
        "56.00\n",
        "\n",
        "**Sample Input 1**\n",
        "\n",
        "2\n",
        "\n",
        "Harsh 25 26.5 28\n",
        "\n",
        "Anurag 26 28 30\n",
        "\n",
        "Harsh\n",
        "\n",
        "**Sample Output 1**\n",
        "\n",
        "26.50"
      ],
      "metadata": {
        "id": "5ofz_1_MHr7w"
      }
    },
    {
      "cell_type": "code",
      "source": [
        "if __name__ == '__main__':\n",
        "    n = int(input())\n",
        "    student_marks = {}\n",
        "    for _ in range(n):\n",
        "        name, *line = input().split()\n",
        "        scores = list(map(float, line))\n",
        "        student_marks[name] = scores\n",
        "    query_name = input()\n",
        "    average_marks= sum([i for i in student_marks[query_name]]) / len(student_marks[query_name])\n",
        "    print(f\"{average_marks:.2f}\")"
      ],
      "metadata": {
        "colab": {
          "base_uri": "https://localhost:8080/"
        },
        "id": "ace1l59nHq2g",
        "outputId": "0a8903ef-9452-4ca5-ec44-370d63488658"
      },
      "execution_count": 8,
      "outputs": [
        {
          "output_type": "stream",
          "name": "stdout",
          "text": [
            "3\n",
            "Krishna 67 68 69\n",
            "Arjun 70 98 63\n",
            "Malika 52 56 60\n",
            "Malika\n",
            "56.00\n"
          ]
        }
      ]
    }
  ]
}