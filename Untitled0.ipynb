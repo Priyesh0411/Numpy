{
  "nbformat": 4,
  "nbformat_minor": 0,
  "metadata": {
    "colab": {
      "provenance": [],
      "authorship_tag": "ABX9TyO5iBbJiTds0hla8bfcoJWV",
      "include_colab_link": true
    },
    "kernelspec": {
      "name": "python3",
      "display_name": "Python 3"
    },
    "language_info": {
      "name": "python"
    }
  },
  "cells": [
    {
      "cell_type": "markdown",
      "metadata": {
        "id": "view-in-github",
        "colab_type": "text"
      },
      "source": [
        "<a href=\"https://colab.research.google.com/github/Priyesh0411/Numpy/blob/master/Untitled0.ipynb\" target=\"_parent\"><img src=\"https://colab.research.google.com/assets/colab-badge.svg\" alt=\"Open In Colab\"/></a>"
      ]
    },
    {
      "cell_type": "code",
      "execution_count": 1,
      "metadata": {
        "colab": {
          "base_uri": "https://localhost:8080/"
        },
        "id": "eP1VfR3fAWFP",
        "outputId": "4a055653-6f6e-4821-f4c6-c4630caaf37d"
      },
      "outputs": [
        {
          "output_type": "stream",
          "name": "stdout",
          "text": [
            "10\n",
            "[2, 2, 2]\n"
          ]
        }
      ],
      "source": [
        "def is_prime(n):\n",
        "    if n < 2:\n",
        "        return False\n",
        "    for i in range(2, int(n**0.5) + 1):\n",
        "        if n % i == 0:\n",
        "            return False\n",
        "    return True\n",
        "\n",
        "def find_three_prime_products(limit):\n",
        "    results = []\n",
        "    primes = [n for n in range(2, limit+1) if is_prime(n)]\n",
        "    for i in range(len(primes)):\n",
        "        for j in range(i, len(primes)):\n",
        "            for k in range(j, len(primes)):\n",
        "                product = primes[i] * primes[j] * primes[k]\n",
        "                if product <= limit:\n",
        "                    results.append([primes[i], primes[j], primes[k]])\n",
        "    return results\n",
        "\n",
        "limit = 10\n",
        "products = find_three_prime_products(limit)\n",
        "l = int(input())\n",
        "for l in products:\n",
        "    print(l)\n"
      ]
    },
    {
      "cell_type": "code",
      "source": [
        "def is_prime(n):\n",
        "    if n < 2:\n",
        "        return False\n",
        "    for i in range(2, int(n**0.5) + 1):\n",
        "        if n % i == 0:\n",
        "            return False\n",
        "    return True\n",
        "\n",
        "def find_three_prime_products(limit):\n",
        "    results = []\n",
        "    primes = [num for num in range(2, limit+1) if is_prime(num)]\n",
        "    for i in range(len(primes)):\n",
        "        for j in range(i, len(primes)):\n",
        "            for k in range(j, len(primes)):\n",
        "                product = primes[i] * primes[j] * primes[k]\n",
        "                if product <= limit and product not in results:\n",
        "                    results.append(product)\n",
        "    return [[p] * 3 for p in results]\n",
        "\n",
        "n = int(input(\"Enter the value of n: \"))\n",
        "products = find_three_prime_products(n)\n",
        "\n",
        "print(products)\n"
      ],
      "metadata": {
        "id": "q6ZW6dlXB_zb",
        "outputId": "c74479d7-ac7c-43ff-ca4b-e80055282322",
        "colab": {
          "base_uri": "https://localhost:8080/"
        }
      },
      "execution_count": null,
      "outputs": [
        {
          "output_type": "stream",
          "name": "stdout",
          "text": [
            "Enter the value of n: 10\n",
            "[[8, 8, 8]]\n"
          ]
        }
      ]
    }
  ]
}