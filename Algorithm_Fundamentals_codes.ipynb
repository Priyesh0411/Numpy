{
  "nbformat": 4,
  "nbformat_minor": 0,
  "metadata": {
    "colab": {
      "provenance": [],
      "authorship_tag": "ABX9TyN/IIpUD0kIjbrNZgvvisPW",
      "include_colab_link": true
    },
    "kernelspec": {
      "name": "python3",
      "display_name": "Python 3"
    },
    "language_info": {
      "name": "python"
    }
  },
  "cells": [
    {
      "cell_type": "markdown",
      "metadata": {
        "id": "view-in-github",
        "colab_type": "text"
      },
      "source": [
        "<a href=\"https://colab.research.google.com/github/Priyesh0411/Numpy/blob/master/Algorithm_Fundamentals_codes.ipynb\" target=\"_parent\"><img src=\"https://colab.research.google.com/assets/colab-badge.svg\" alt=\"Open In Colab\"/></a>"
      ]
    },
    {
      "cell_type": "code",
      "source": [
        "# Define a function to perform linear search\n",
        "def game(lst, target):\n",
        "    # Iterate over each element in the list\n",
        "    for i in range(len(lst)):\n",
        "        # If the current element matches the target, return its index\n",
        "        if lst[i] == target:\n",
        "            return i\n",
        "    # If the target is not found, return -1\n",
        "    return -1\n",
        "\n",
        "# Define a function to play the guessing game\n",
        "def play_guessing_game():\n",
        "    import random\n",
        "\n",
        "    # Generate a random number between 1 and 100\n",
        "    target = random.randint(1, 100)         # With importing random, when using random after dot(\".\") we have to use \"randint\". randint gives range in between.\n",
        "    print(\"I'm thinking of a number between 1 and 100. Can you guess it in 7 tries?\")\n",
        "\n",
        "    # Initialize the number of attempts to 0\n",
        "    num_attempts = 0\n",
        "\n",
        "    # Keep asking for guesses until the user runs out of attempts or guesses correctly\n",
        "    while num_attempts < 7:\n",
        "        # Ask the user for a guess\n",
        "        guess = int(input(f\"Guess #{num_attempts+1}: \"))\n",
        "        # Increment the number of attempts\n",
        "        num_attempts += 1\n",
        "        # Check if the guess is correct\n",
        "        if guess == target:\n",
        "            print(f\"Congratulations! You guessed the number in {num_attempts} tries.\")\n",
        "            return\n",
        "        # If the guess is incorrect, provide feedback and continue\n",
        "        elif guess < target:\n",
        "            print(\"The number is higher than your guess.\")\n",
        "        else:\n",
        "            print(\"The number is lower than your guess.\")\n",
        "\n",
        "    # If the user runs out of attempts without guessing correctly, reveal the answer\n",
        "    print(f\"Sorry, you ran out of attempts. The number was {target}.\")\n",
        "\n",
        "# Play the guessing game\n",
        "play_guessing_game()\n"
      ],
      "metadata": {
        "id": "fPBctNJRwqGG",
        "colab": {
          "base_uri": "https://localhost:8080/"
        },
        "outputId": "c6b8a908-6461-425d-aea6-eec40dfa890b"
      },
      "execution_count": null,
      "outputs": [
        {
          "output_type": "stream",
          "name": "stdout",
          "text": [
            "I'm thinking of a number between 1 and 100. Can you guess it in 7 tries?\n",
            "Guess #1: 10\n",
            "The number is higher than your guess.\n",
            "Guess #2: 50\n",
            "The number is lower than your guess.\n",
            "Guess #3: 20\n",
            "The number is higher than your guess.\n",
            "Guess #4: 35\n",
            "The number is higher than your guess.\n",
            "Guess #5: 45\n",
            "Congratulations! You guessed the number in 5 tries.\n"
          ]
        }
      ]
    },
    {
      "cell_type": "code",
      "source": [
        "# Write your code here\n",
        "def linear_search(lst, target):\n",
        "    \"\"\"\n",
        "    Searches for the target value in the given list using a linear search algorithm.\n",
        "    Returns the index of the target value if found, or -1 if not found.\n",
        "    \"\"\"\n",
        "    for i in range(len(lst)):\n",
        "        if lst[i] == target:\n",
        "            return i          # here \"i\" returns index of the element that is the target value.\n",
        "    return -1\n",
        "\n",
        "# Example usage:\n",
        "lst = [5, 2, 8, 12, 7]\n",
        "target = 2\n",
        "result = linear_search(lst, target)\n",
        "if result == -1:\n",
        "    print(\"Target value not found in list.\")\n",
        "else:\n",
        "    print(f\"Target value found at index {result}.\")"
      ],
      "metadata": {
        "colab": {
          "base_uri": "https://localhost:8080/"
        },
        "id": "dhwBztSNyzfY",
        "outputId": "6fac5b6c-bb72-494b-e19b-430e2e9e08bc"
      },
      "execution_count": null,
      "outputs": [
        {
          "output_type": "stream",
          "name": "stdout",
          "text": [
            "Target value found at index 1.\n"
          ]
        }
      ]
    },
    {
      "cell_type": "code",
      "source": [
        "# Write your code here\n",
        "# Define a function to sort a list of integers using bubble sort\n",
        "def bubble_sort(lst):\n",
        "    # Initialize variables for tracking number of swaps and comparisons\n",
        "    swaps = 0\n",
        "    comparisons = 0\n",
        "\n",
        "    # Get the length of the list\n",
        "    n = len(lst)\n",
        "\n",
        "    # Iterate over the list using two nested loops\n",
        "    for i in range(n-1):\n",
        "        for j in range(0, n-i-1):\n",
        "            swaps += 1\n",
        "            # Swap two adjacent elements if they are in the wrong order\n",
        "            if lst[j] > lst[j+1]:\n",
        "                lst[j], lst[j+1] = lst[j+1], lst[j]\n",
        "                comparisons += 1\n",
        "\n",
        "    # Print the sorted list and the number of swaps and comparisons, then return the sorted list\n",
        "    print(\"Sorted list:\", lst)\n",
        "    print(\"Number of swaps:\", swaps)\n",
        "    print(\"Number of comparisons:\", comparisons)\n",
        "    return lst\n",
        "# Test Case\n",
        "lst = [1000, 500, 750, 900, 2000, 1500, 300, 50, 2500, 10000, 8000, 3000, 6000]\n",
        "bubble_sort(lst)"
      ],
      "metadata": {
        "id": "KBS-OjlU4jDC",
        "colab": {
          "base_uri": "https://localhost:8080/"
        },
        "outputId": "d08e21e6-4cc1-4b47-a891-e07b9a5549f4"
      },
      "execution_count": null,
      "outputs": [
        {
          "output_type": "stream",
          "name": "stdout",
          "text": [
            "Sorted list: [50, 300, 500, 750, 900, 1000, 1500, 2000, 2500, 3000, 6000, 8000, 10000]\n",
            "Number of swaps: 78\n",
            "Number of comparisons: 22\n"
          ]
        },
        {
          "output_type": "execute_result",
          "data": {
            "text/plain": [
              "[50, 300, 500, 750, 900, 1000, 1500, 2000, 2500, 3000, 6000, 8000, 10000]"
            ]
          },
          "metadata": {},
          "execution_count": 11
        }
      ]
    },
    {
      "cell_type": "code",
      "source": [
        "# Write your code here\n",
        "# Define a bubble sort function to sort the student scores\n",
        "def bubble_sort(arr):\n",
        "    n = len(arr)\n",
        "    # Traverse through all array elements\n",
        "    for i in range(n):\n",
        "        # Last i elements are already in place\n",
        "        for j in range(0, n-i-1):\n",
        "            # Traverse the array from 0 to n-i-1\n",
        "            # Swap if the element found is greater than the next element\n",
        "            if arr[j]> arr[j+1]:\n",
        "                arr[j], arr[j+1] = arr[j+1], arr[j]\n",
        "    return arr\n",
        "\n",
        "# Test case for bubble sort\n",
        "arr = [3, 7, 1, 9, 2, 5]\n",
        "sorted_arr = bubble_sort(arr)\n",
        "\n",
        "# Expected output: [1, 2, 3, 5, 7, 9]\n",
        "print(sorted_arr)"
      ],
      "metadata": {
        "id": "FIO7pBVU--5G",
        "colab": {
          "base_uri": "https://localhost:8080/"
        },
        "outputId": "b5578942-bfcf-4e2d-9e22-da74d0dbd3fd"
      },
      "execution_count": null,
      "outputs": [
        {
          "output_type": "stream",
          "name": "stdout",
          "text": [
            "[1, 2, 3, 5, 7, 9]\n"
          ]
        }
      ]
    }
  ]
}